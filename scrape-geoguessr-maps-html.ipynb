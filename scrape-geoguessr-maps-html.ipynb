{
 "cells": [
  {
   "cell_type": "code",
   "execution_count": 512,
   "id": "6054667d-c96b-4943-b434-613621c2923d",
   "metadata": {},
   "outputs": [],
   "source": [
    "import os\n",
    "import time\n",
    "import re\n",
    "import pandas as pd\n",
    "from tqdm import tqdm\n",
    "import multiprocessing\n",
    "from bs4 import BeautifulSoup\n",
    "from selenium import webdriver\n",
    "from selenium.webdriver.edge.service import Service\n",
    "from selenium.webdriver.edge.options import Options"
   ]
  },
  {
   "cell_type": "code",
   "execution_count": 526,
   "id": "f4b7b63e-0c8b-4fc5-97f4-7a3e2b101e77",
   "metadata": {},
   "outputs": [],
   "source": [
    "# Path to the Edge WebDriver executable\n",
    "edge_driver_path = r\"C:\\msedgedriver.exe\"\n",
    "\n",
    "edge_options = Options()\n",
    "edge_options.add_argument('--headless')\n",
    "edge_options.add_argument('--no-sandbox')\n",
    "edge_options.add_argument('--disable-dev-shm-usage')\n",
    "\n",
    "service = Service(edge_driver_path)\n",
    "\n",
    "# Create a new instance of the Edge driver\n",
    "driver = webdriver.Edge(service=service, options=edge_options)"
   ]
  },
  {
   "cell_type": "code",
   "execution_count": 532,
   "id": "e3a54029-8255-409b-8820-29e5d52663f7",
   "metadata": {},
   "outputs": [],
   "source": [
    "def scrape_map_ids(url_list):\n",
    "\n",
    "    pattern = r'/maps/([a-f0-9]{24})'\n",
    "    map_id_list = []\n",
    "    \n",
    "    for url in tqdm(url_list):\n",
    "        driver.get(url)\n",
    "        time.sleep(5)\n",
    "        html_content = driver.page_source\n",
    "        soup = BeautifulSoup(html_content, 'html.parser')\n",
    "        matches = re.findall(pattern, soup.prettify())\n",
    "        map_urls = [\"https://www.geoguessr.com/maps/\" + m for m in matches]\n",
    "        for map in map_urls:\n",
    "            if map not in url_list:\n",
    "                map_id_list.append(map)\n",
    "    \n",
    "    return list(set(map_id_list))"
   ]
  },
  {
   "cell_type": "code",
   "execution_count": null,
   "id": "a73d5a74-e847-4807-9d1e-1487accee3d6",
   "metadata": {},
   "outputs": [],
   "source": [
    "map_id_list = scrape_map_ids(url_list)"
   ]
  },
  {
   "cell_type": "code",
   "execution_count": null,
   "id": "013fbbbb-e1fe-4c32-b196-333ec691ad4e",
   "metadata": {},
   "outputs": [],
   "source": [
    "folder_path = 'all_html_files'\n",
    "\n",
    "# Create the folder if it doesn't exist\n",
    "if not os.path.exists(folder_path):\n",
    "    os.makedirs(folder_path)\n",
    "\n",
    "for url in tqdm(map_id_list):\n",
    "    driver.get(url)\n",
    "    time.sleep(5)\n",
    "    html_content = driver.page_source\n",
    "    file_name = url.split(\"/\")[-1] + '.html'\n",
    "    file_path = os.path.join(folder_path, file_name)\n",
    "    with open(file_path, 'w', encoding='utf-8') as file:\n",
    "        file.write(html_content)"
   ]
  }
 ],
 "metadata": {
  "kernelspec": {
   "display_name": "Python 3 (ipykernel)",
   "language": "python",
   "name": "python3"
  },
  "language_info": {
   "codemirror_mode": {
    "name": "ipython",
    "version": 3
   },
   "file_extension": ".py",
   "mimetype": "text/x-python",
   "name": "python",
   "nbconvert_exporter": "python",
   "pygments_lexer": "ipython3",
   "version": "3.12.4"
  }
 },
 "nbformat": 4,
 "nbformat_minor": 5
}
